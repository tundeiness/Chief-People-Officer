{
 "cells": [
  {
   "cell_type": "markdown",
   "metadata": {},
   "source": [
    "#### COMPANION WORKBOOK\n",
    "\n",
    "# Model Evaluation\n",
    "\n",
    "To make the most out of this program, we strongly recommend you to:\n",
    "1. First practice writing and implementing all of the code from Coding Section of the online module.\n",
    "2. Then, freely experiment with and explore any interesting or confusing concepts. Simply insert new code cells and then use the help of Google and official documentation.\n",
    "3. Finally, tackle all of the exercises at the end. They will help you tie everything together and **learn in context.**\n",
    "\n",
    "#### <span style=\"color:#555\">MODULE CODE SANDBOX</span>\n",
    "\n",
    "Use this space to practice writing and implementing all of the code from Coding Section of the online module. Insert new code cells as needed, and feel free to write notes to yourself in Markdown."
   ]
  },
  {
   "cell_type": "markdown",
   "metadata": {},
   "source": [
    "#### Important Note: You're now in the driver's seat!\n",
    "\n",
    "For this project, we're going to leave the standard model training steps to you. But don't worry, we've provided a **guided exercise** for each of the major steps. It's imperative that you finish those exercises, and you can find them below."
   ]
  },
  {
   "cell_type": "markdown",
   "metadata": {},
   "source": [
    "## I. Prep Work\n",
    "\n",
    "#### First, let's import the libraries, helper functions, and classes we'll need.\n",
    "* Again, we'll have you import the right libraries for this module. We've included comments below to guide you.\n",
    "* If you forget one, you can always add it here later and re-run this code block.\n",
    "* When in doubt regarding which Scikit-Learn submodule something belongs to, this <a href=\"http://scikit-learn.org/stable/modules/classes.html\" target=\"_blank\">documentation page</a> is a great resource.\n",
    "* Check the answer key if needed."
   ]
  },
  {
   "cell_type": "code",
   "execution_count": 1,
   "metadata": {},
   "outputs": [],
   "source": [
    "# NumPy for numerical computing\n",
    "import numpy as np\n",
    "\n",
    "# Pandas for DataFrames\n",
    "import pandas as pd\n",
    "pd.set_option('display.max_columns', 100)\n",
    "pd.set_option('display.float_format', lambda x: '%3f' % x)\n",
    "\n",
    "# Matplotlib for visualization\n",
    "from matplotlib import pyplot as plt\n",
    "%matplotlib inline\n",
    "\n",
    "# Seaborn for easier visualization\n",
    "import seaborn as sns\n",
    "sns.set_style('darkgrid')\n",
    "\n",
    "# Pickle for saving model files\n",
    "import pickle as pkl\n",
    "\n",
    "# Import Logistic Regression\n",
    "from sklearn.linear_model import LogisticRegression\n",
    "\n",
    "\n",
    "# Import RandomForestClassifier and GradientBoostingClassifer\n",
    "from sklearn.ensemble import RandomForestClassifier, GradientBoostingClassifier\n",
    "\n",
    "\n",
    "# Function for splitting training and test set\n",
    "from sklearn.model_selection import train_test_split\n",
    "\n",
    "# Function for creating model pipelines\n",
    "from sklearn.pipeline import make_pipeline\n",
    "\n",
    "def create_pipeline(model, model_name):\n",
    "    pipelines = {\n",
    "        model_name: make_pipeline(StandardScaler(), model_name(random_state=123))\n",
    "    }\n",
    "    return pipelines\n",
    "    \n",
    "\n",
    "# StandardScaler\n",
    "from sklearn.preprocessing import StandardScaler\n",
    "\n",
    "# GridSearchCV\n",
    "from sklearn.model_selection import GridSearchCV"
   ]
  },
  {
   "cell_type": "markdown",
   "metadata": {},
   "source": [
    "#### Next, let's read in the analytical base table you saved at the end of Module 2."
   ]
  },
  {
   "cell_type": "code",
   "execution_count": 2,
   "metadata": {},
   "outputs": [],
   "source": [
    "# Load analytical base table from Module 2\n",
    "analytical_base_table = pd.read_csv('abt')"
   ]
  },
  {
   "cell_type": "code",
   "execution_count": 3,
   "metadata": {},
   "outputs": [],
   "source": [
    "# generate noisy conditionals\n",
    "x = np.linspace(0, 1, 1000)\n",
    "\n",
    "# seed the noise data to make it replicable\n",
    "np.random.seed(555)\n",
    "\n",
    "# generate noise\n",
    "noise = np.random.uniform(-0.02, 0.02, 1000)\n",
    "\n",
    "y = ((x + noise) > 0.97).astype(int)\n",
    "\n",
    "# reshape input feature as 2D dataset\n",
    "X = x.reshape(-1, 1)"
   ]
  },
  {
   "cell_type": "markdown",
   "metadata": {},
   "source": [
    "In the above 0.97 means 97% of the data belongs to the negative class.\n",
    "while 3% belongs to the positive class."
   ]
  },
  {
   "cell_type": "code",
   "execution_count": 4,
   "metadata": {},
   "outputs": [
    {
     "name": "stdout",
     "output_type": "stream",
     "text": [
      "0.029\n"
     ]
    }
   ],
   "source": [
    "# check the 3%\n",
    "print(y.mean())"
   ]
  },
  {
   "cell_type": "code",
   "execution_count": 5,
   "metadata": {},
   "outputs": [
    {
     "data": {
      "image/png": "[encoded data removed]",
      "text/plain": [
       "<Figure size 432x288 with 1 Axes>"
      ]
     },
     "metadata": {},
     "output_type": "display_data"
    }
   ],
   "source": [
    "# plot the simulated data\n",
    "\n",
    "plt.scatter(X, y)\n",
    "plt.show()"
   ]
  },
  {
   "cell_type": "markdown",
   "metadata": {},
   "source": [
    "## II. Accuracy vs. Imbalanced Classes"
   ]
  },
  {
   "cell_type": "code",
   "execution_count": 6,
   "metadata": {},
   "outputs": [
    {
     "data": {
      "image/png": "[encoded data removed]",
      "text/plain": [
       "<Figure size 432x288 with 1 Axes>"
      ]
     },
     "metadata": {},
     "output_type": "display_data"
    }
   ],
   "source": [
    "# Implement brain dead simple model for negative classes only\n",
    "\n",
    "pred_dumb = [0] * len(y)\n",
    "\n",
    "# plot the dataset\n",
    "\n",
    "plt.scatter(X, y)\n",
    "plt.plot(X, pred_dumb, 'k--')\n",
    "\n",
    "plt.show()"
   ]
  },
  {
   "cell_type": "code",
   "execution_count": 7,
   "metadata": {},
   "outputs": [],
   "source": [
    "# using L2 regularised regression\n",
    "\n",
    "clf = LogisticRegression(random_state=123, C=10)\n",
    "\n",
    "# fit the model\n",
    "clf.fit(X, y)\n",
    "\n",
    "# using predict\n",
    "pred_class = clf.predict(X)\n",
    "\n",
    "# using predict_proba\n",
    "pred = clf.predict_proba(X)\n",
    "\n",
    "# positive class probabilities\n",
    "pred = [p[1] for p in pred]\n"
   ]
  },
  {
   "cell_type": "code",
   "execution_count": 8,
   "metadata": {},
   "outputs": [
    {
     "data": {
      "image/png": "[encoded data removed]",
      "text/plain": [
       "<Figure size 432x288 with 1 Axes>"
      ]
     },
     "metadata": {},
     "output_type": "display_data"
    }
   ],
   "source": [
    "# plot predicted probabilities\n",
    "plt.scatter(X, y)\n",
    "plt.plot(X, pred, 'k--')\n",
    "\n",
    "plt.show()"
   ]
  },
  {
   "cell_type": "code",
   "execution_count": 9,
   "metadata": {},
   "outputs": [
    {
     "name": "stdout",
     "output_type": "stream",
     "text": [
      "dumb model:  0.971\n",
      "pred class:  0.971\n"
     ]
    }
   ],
   "source": [
    "# display accuracy score from pred_class and dumb model\n",
    "\n",
    "from sklearn.metrics import accuracy_score\n",
    "\n",
    "print('dumb model: ', accuracy_score(y, pred_dumb))\n",
    "print('pred class: ',accuracy_score(y, pred_class))"
   ]
  },
  {
   "cell_type": "code",
   "execution_count": 10,
   "metadata": {},
   "outputs": [
    {
     "data": {
      "text/plain": [
       "True"
      ]
     },
     "execution_count": 10,
     "metadata": {},
     "output_type": "execute_result"
    }
   ],
   "source": [
    "# check if accuracy class are identical\n",
    "\n",
    "all(pred_dumb == pred_class)"
   ]
  },
  {
   "cell_type": "markdown",
   "metadata": {},
   "source": [
    "## III. True Positive Rate vs. False Positive Rate"
   ]
  },
  {
   "cell_type": "code",
   "execution_count": 11,
   "metadata": {},
   "outputs": [],
   "source": [
    "# import confusion matrix\n",
    "from sklearn.metrics import confusion_matrix\n"
   ]
  },
  {
   "cell_type": "code",
   "execution_count": 12,
   "metadata": {},
   "outputs": [
    {
     "name": "stdout",
     "output_type": "stream",
     "text": [
      "[[971   0]\n",
      " [ 29   0]]\n"
     ]
    }
   ],
   "source": [
    "# display the confusion matrix for our L1-regularized logistic regression\n",
    "\n",
    "print(confusion_matrix(y, pred_class))"
   ]
  },
  {
   "cell_type": "markdown",
   "metadata": {},
   "source": [
    "- The first column includes observations that were predicted to be 0, the negative class.\n",
    "- The second column includes observations that were predicted to be 1, the positive class.\n",
    "- The first row includes observations that were actually 0, the negative class.\n",
    "- The second row includes observations that were actually 1, the positive class.\n",
    "\n",
    "Therefore, among the 1000 observations, 971 were correctly classified (which confirms the accuracy score of 0.971 above).\n",
    "\n",
    "- 971 were true negatives (predicted negative and actually negative)\n",
    "- 0 were true positives (predicted positive and actually positive)\n",
    "- On the other hand, 29 were incorrectly classified... 29 were false negatives (predicted negative, but actually positive)\n",
    "- 0 were false positives (predicted positive, but actually negative)"
   ]
  },
  {
   "cell_type": "markdown",
   "metadata": {},
   "source": [
    "the confusion matrix allows you to calculate two important metrics:\n",
    "- True positive rate (TPR) => defined as TP/TP+FN\n",
    "- False positive rate (FPR) => defined as FP/FP+TN"
   ]
  },
  {
   "cell_type": "code",
   "execution_count": 13,
   "metadata": {},
   "outputs": [
    {
     "name": "stdout",
     "output_type": "stream",
     "text": [
      "TPR : 0.0\n",
      "FPR : 0.0\n"
     ]
    }
   ],
   "source": [
    "# Get the TPR vs. FPR of the regularized logistic regression model.\n",
    "\n",
    "cm = confusion_matrix(y, pred_class)\n",
    "\n",
    "# get True Positive\n",
    "tp = cm[1][1]\n",
    "\n",
    "# get False Positive\n",
    "fp = cm[0][1]\n",
    "\n",
    "# get True Negative\n",
    "tn = cm[0][0]\n",
    "\n",
    "# get False Negative\n",
    "fn = cm[1][0]\n",
    "\n",
    "\n",
    "true_positive_rate = tp / (tp+fn)\n",
    "false_positive_rate = fp / (fp+tn)\n",
    "\n",
    "print('TPR :', true_positive_rate)\n",
    "print('FPR :', false_positive_rate)"
   ]
  },
  {
   "cell_type": "code",
   "execution_count": 14,
   "metadata": {},
   "outputs": [
    {
     "name": "stdout",
     "output_type": "stream",
     "text": [
      "[0.33 0.34 0.34 0.34 0.35 0.35 0.35 0.36 0.36 0.36]\n"
     ]
    }
   ],
   "source": [
    "# predict last ten probabilities\n",
    "print(np.round(pred[-10:], 2))"
   ]
  },
  {
   "cell_type": "code",
   "execution_count": 15,
   "metadata": {},
   "outputs": [
    {
     "name": "stdout",
     "output_type": "stream",
     "text": [
      "[0 0 0 0 0 0 0 0 0 0]\n"
     ]
    }
   ],
   "source": [
    "# predict last ten predicted probabilities\n",
    "print(np.round(pred_class[-10:], 2))"
   ]
  },
  {
   "cell_type": "code",
   "execution_count": 16,
   "metadata": {},
   "outputs": [],
   "source": [
    "# reducing the threshold manually for futher investigation\n",
    "\n",
    "pred_class_v2 = (np.array(pred) > 0.25).astype(int)"
   ]
  },
  {
   "cell_type": "code",
   "execution_count": 17,
   "metadata": {},
   "outputs": [
    {
     "name": "stdout",
     "output_type": "stream",
     "text": [
      "[[962   9]\n",
      " [  3  26]]\n"
     ]
    }
   ],
   "source": [
    "# get confusion matrix of pred_class_v2\n",
    "\n",
    "print(confusion_matrix(y, pred_class_v2))"
   ]
  },
  {
   "cell_type": "code",
   "execution_count": 18,
   "metadata": {},
   "outputs": [
    {
     "name": "stdout",
     "output_type": "stream",
     "text": [
      "TPR : 0.896551724137931\n",
      "FPR : 0.009268795056642637\n"
     ]
    }
   ],
   "source": [
    "# get TPR vs. FPR of regularized logistic regression model, based on the new threshold of 0.25.\n",
    "\n",
    "cm2 = confusion_matrix(y, pred_class_v2)\n",
    "\n",
    "TP = cm2[1][1]\n",
    "FP = cm2[0][1]\n",
    "TN = cm2[0][0]\n",
    "FN = cm2[1][0]\n",
    "\n",
    "\n",
    "True_positive_rate = TP / (TP+FN)\n",
    "False_positive_rate = FP / (FP+TN)\n",
    "\n",
    "\n",
    "print('TPR :', True_positive_rate)\n",
    "print('FPR :', False_positive_rate)\n"
   ]
  },
  {
   "cell_type": "markdown",
   "metadata": {},
   "source": [
    "## IV. Area Under ROC Curve (AUROC)"
   ]
  },
  {
   "cell_type": "code",
   "execution_count": 19,
   "metadata": {},
   "outputs": [
    {
     "data": {
      "text/html": [
       "<div>\n",
       "<style scoped>\n",
       "    .dataframe tbody tr th:only-of-type {\n",
       "        vertical-align: middle;\n",
       "    }\n",
       "\n",
       "    .dataframe tbody tr th {\n",
       "        vertical-align: top;\n",
       "    }\n",
       "\n",
       "    .dataframe thead th {\n",
       "        text-align: right;\n",
       "    }\n",
       "</style>\n",
       "<table border=\"1\" class=\"dataframe\">\n",
       "  <thead>\n",
       "    <tr style=\"text-align: right;\">\n",
       "      <th></th>\n",
       "      <th>FPR</th>\n",
       "      <th>TPR</th>\n",
       "      <th>Thresholds</th>\n",
       "    </tr>\n",
       "  </thead>\n",
       "  <tbody>\n",
       "    <tr>\n",
       "      <th>0</th>\n",
       "      <td>0.000000</td>\n",
       "      <td>0.000000</td>\n",
       "      <td>1.363981</td>\n",
       "    </tr>\n",
       "    <tr>\n",
       "      <th>1</th>\n",
       "      <td>0.000000</td>\n",
       "      <td>0.034483</td>\n",
       "      <td>0.363981</td>\n",
       "    </tr>\n",
       "    <tr>\n",
       "      <th>2</th>\n",
       "      <td>0.000000</td>\n",
       "      <td>0.586207</td>\n",
       "      <td>0.308024</td>\n",
       "    </tr>\n",
       "    <tr>\n",
       "      <th>3</th>\n",
       "      <td>0.001030</td>\n",
       "      <td>0.586207</td>\n",
       "      <td>0.304687</td>\n",
       "    </tr>\n",
       "    <tr>\n",
       "      <th>4</th>\n",
       "      <td>0.001030</td>\n",
       "      <td>0.724138</td>\n",
       "      <td>0.291545</td>\n",
       "    </tr>\n",
       "    <tr>\n",
       "      <th>5</th>\n",
       "      <td>0.003090</td>\n",
       "      <td>0.724138</td>\n",
       "      <td>0.285101</td>\n",
       "    </tr>\n",
       "    <tr>\n",
       "      <th>6</th>\n",
       "      <td>0.003090</td>\n",
       "      <td>0.758621</td>\n",
       "      <td>0.281911</td>\n",
       "    </tr>\n",
       "    <tr>\n",
       "      <th>7</th>\n",
       "      <td>0.007209</td>\n",
       "      <td>0.758621</td>\n",
       "      <td>0.269372</td>\n",
       "    </tr>\n",
       "    <tr>\n",
       "      <th>8</th>\n",
       "      <td>0.007209</td>\n",
       "      <td>0.793103</td>\n",
       "      <td>0.266293</td>\n",
       "    </tr>\n",
       "    <tr>\n",
       "      <th>9</th>\n",
       "      <td>0.008239</td>\n",
       "      <td>0.793103</td>\n",
       "      <td>0.263236</td>\n",
       "    </tr>\n",
       "    <tr>\n",
       "      <th>10</th>\n",
       "      <td>0.008239</td>\n",
       "      <td>0.896552</td>\n",
       "      <td>0.254202</td>\n",
       "    </tr>\n",
       "    <tr>\n",
       "      <th>11</th>\n",
       "      <td>0.009269</td>\n",
       "      <td>0.896552</td>\n",
       "      <td>0.251236</td>\n",
       "    </tr>\n",
       "    <tr>\n",
       "      <th>12</th>\n",
       "      <td>0.009269</td>\n",
       "      <td>0.931034</td>\n",
       "      <td>0.248294</td>\n",
       "    </tr>\n",
       "    <tr>\n",
       "      <th>13</th>\n",
       "      <td>0.015448</td>\n",
       "      <td>0.931034</td>\n",
       "      <td>0.231128</td>\n",
       "    </tr>\n",
       "    <tr>\n",
       "      <th>14</th>\n",
       "      <td>0.015448</td>\n",
       "      <td>0.965517</td>\n",
       "      <td>0.228349</td>\n",
       "    </tr>\n",
       "    <tr>\n",
       "      <th>15</th>\n",
       "      <td>0.018538</td>\n",
       "      <td>0.965517</td>\n",
       "      <td>0.220155</td>\n",
       "    </tr>\n",
       "    <tr>\n",
       "      <th>16</th>\n",
       "      <td>0.018538</td>\n",
       "      <td>1.000000</td>\n",
       "      <td>0.217471</td>\n",
       "    </tr>\n",
       "    <tr>\n",
       "      <th>17</th>\n",
       "      <td>1.000000</td>\n",
       "      <td>1.000000</td>\n",
       "      <td>0.000000</td>\n",
       "    </tr>\n",
       "  </tbody>\n",
       "</table>\n",
       "</div>"
      ],
      "text/plain": [
       "        FPR      TPR  Thresholds\n",
       "0  0.000000 0.000000    1.363981\n",
       "1  0.000000 0.034483    0.363981\n",
       "2  0.000000 0.586207    0.308024\n",
       "3  0.001030 0.586207    0.304687\n",
       "4  0.001030 0.724138    0.291545\n",
       "5  0.003090 0.724138    0.285101\n",
       "6  0.003090 0.758621    0.281911\n",
       "7  0.007209 0.758621    0.269372\n",
       "8  0.007209 0.793103    0.266293\n",
       "9  0.008239 0.793103    0.263236\n",
       "10 0.008239 0.896552    0.254202\n",
       "11 0.009269 0.896552    0.251236\n",
       "12 0.009269 0.931034    0.248294\n",
       "13 0.015448 0.931034    0.231128\n",
       "14 0.015448 0.965517    0.228349\n",
       "15 0.018538 0.965517    0.220155\n",
       "16 0.018538 1.000000    0.217471\n",
       "17 1.000000 1.000000    0.000000"
      ]
     },
     "execution_count": 19,
     "metadata": {},
     "output_type": "execute_result"
    }
   ],
   "source": [
    "# import AUROC classification metrics\n",
    "\n",
    "from sklearn.metrics import roc_curve, roc_auc_score\n",
    "\n",
    "# calculate ROC curve for y and pred\n",
    "\n",
    "fpr, tpr, thresholds = roc_curve(y, pred)\n",
    "\n",
    "\n",
    "# save the result in a dataframe\n",
    "\n",
    "pd.DataFrame({'FPR': fpr, 'TPR': tpr, 'Thresholds': thresholds})"
   ]
  },
  {
   "cell_type": "code",
   "execution_count": 20,
   "metadata": {},
   "outputs": [
    {
     "data": {
      "image/png": "[encoded data removed]",
      "text/plain": [
       "<Figure size 648x648 with 1 Axes>"
      ]
     },
     "metadata": {},
     "output_type": "display_data"
    }
   ],
   "source": [
    "\n",
    "# initialise the fig plot\n",
    "\n",
    "fig = plt.figure(figsize=(9,9))\n",
    "plt.title = 'Reciever Operating Characteristics'\n",
    "\n",
    "\n",
    "# plotting the ROC curve\n",
    "plt.plot(fpr, tpr, label='l1')\n",
    "plt.legend(loc='lower right')\n",
    "\n",
    "# draw diagonal 45 degree line\n",
    "plt.plot([0,1],[0,1], 'k--')\n",
    "\n",
    "# draw axes limits and labels\n",
    "plt.xlim([-0.1, 1.1])\n",
    "plt.ylim([-0.1, 1.1])\n",
    "plt.ylabel('True Positive Rate')\n",
    "plt.xlabel('False Positive Rate')\n",
    "plt.show()\n"
   ]
  },
  {
   "cell_type": "code",
   "execution_count": 21,
   "metadata": {},
   "outputs": [
    {
     "data": {
      "text/plain": [
       "0.9971589900209524"
      ]
     },
     "execution_count": 21,
     "metadata": {},
     "output_type": "execute_result"
    }
   ],
   "source": [
    "# calculate ROC AUC scores\n",
    "\n",
    "roc_auc_score(y, pred)"
   ]
  },
  {
   "cell_type": "code",
   "execution_count": 22,
   "metadata": {},
   "outputs": [
    {
     "data": {
      "text/plain": [
       "0.5"
      ]
     },
     "execution_count": 22,
     "metadata": {},
     "output_type": "execute_result"
    }
   ],
   "source": [
    "# calculate ROC AUC scores for pred_dumb\n",
    "\n",
    "roc_auc_score(y, pred_dumb)"
   ]
  },
  {
   "cell_type": "markdown",
   "metadata": {},
   "source": [
    "#### <span style=\"color:#555\">EXERCISES</span>\n",
    "\n",
    "Complete each of the following exercises."
   ]
  },
  {
   "cell_type": "markdown",
   "metadata": {},
   "source": [
    "## <span style=\"color:RoyalBlue\">Exercise 4.1 - Split Your Dataset</span>\n",
    "\n",
    "Let's start by splitting our data into separate training and test sets. Remember, your data is a **limited resource**.\n",
    "* You can spend some of it to train your model.\n",
    "* You can spend some of it to test, or evaluate your model.\n",
    "* But you can't use the same data for both!\n",
    "\n",
    "Having a true \"unseen\" test dataset helps you detect overfit models and ultimately select the best model.\n",
    "\n",
    "#### A.) First, separate the dataframe into separate objects for the target variable, <code style=\"color:steelblue\">y</code>, and the input features, <code style=\"color:steelblue\">X</code>."
   ]
  },
  {
   "cell_type": "code",
   "execution_count": 23,
   "metadata": {},
   "outputs": [
    {
     "data": {
      "text/html": [
       "<div>\n",
       "<style scoped>\n",
       "    .dataframe tbody tr th:only-of-type {\n",
       "        vertical-align: middle;\n",
       "    }\n",
       "\n",
       "    .dataframe tbody tr th {\n",
       "        vertical-align: top;\n",
       "    }\n",
       "\n",
       "    .dataframe thead th {\n",
       "        text-align: right;\n",
       "    }\n",
       "</style>\n",
       "<table border=\"1\" class=\"dataframe\">\n",
       "  <thead>\n",
       "    <tr style=\"text-align: right;\">\n",
       "      <th></th>\n",
       "      <th>avg_monthly_hrs</th>\n",
       "      <th>filed_complaint</th>\n",
       "      <th>last_evaluation</th>\n",
       "      <th>n_projects</th>\n",
       "      <th>recently_promoted</th>\n",
       "      <th>satisfaction</th>\n",
       "      <th>status</th>\n",
       "      <th>tenure</th>\n",
       "      <th>last_evaluation_missing</th>\n",
       "      <th>unhappy</th>\n",
       "      <th>underperformer</th>\n",
       "      <th>overachiever</th>\n",
       "      <th>department_IT</th>\n",
       "      <th>department_Missing</th>\n",
       "      <th>department_admin</th>\n",
       "      <th>department_engineering</th>\n",
       "      <th>department_finance</th>\n",
       "      <th>department_management</th>\n",
       "      <th>department_marketing</th>\n",
       "      <th>department_procurement</th>\n",
       "      <th>department_product</th>\n",
       "      <th>department_sales</th>\n",
       "      <th>department_support</th>\n",
       "      <th>salary_high</th>\n",
       "      <th>salary_low</th>\n",
       "      <th>salary_medium</th>\n",
       "    </tr>\n",
       "  </thead>\n",
       "  <tbody>\n",
       "    <tr>\n",
       "      <th>0</th>\n",
       "      <td>221</td>\n",
       "      <td>0.000000</td>\n",
       "      <td>0.932868</td>\n",
       "      <td>4</td>\n",
       "      <td>0.000000</td>\n",
       "      <td>0.829896</td>\n",
       "      <td>1</td>\n",
       "      <td>5.000000</td>\n",
       "      <td>0</td>\n",
       "      <td>0</td>\n",
       "      <td>0</td>\n",
       "      <td>1</td>\n",
       "      <td>0</td>\n",
       "      <td>0</td>\n",
       "      <td>0</td>\n",
       "      <td>1</td>\n",
       "      <td>0</td>\n",
       "      <td>0</td>\n",
       "      <td>0</td>\n",
       "      <td>0</td>\n",
       "      <td>0</td>\n",
       "      <td>0</td>\n",
       "      <td>0</td>\n",
       "      <td>0</td>\n",
       "      <td>1</td>\n",
       "      <td>0</td>\n",
       "    </tr>\n",
       "    <tr>\n",
       "      <th>1</th>\n",
       "      <td>232</td>\n",
       "      <td>0.000000</td>\n",
       "      <td>0.000000</td>\n",
       "      <td>3</td>\n",
       "      <td>0.000000</td>\n",
       "      <td>0.834544</td>\n",
       "      <td>0</td>\n",
       "      <td>2.000000</td>\n",
       "      <td>1</td>\n",
       "      <td>0</td>\n",
       "      <td>0</td>\n",
       "      <td>0</td>\n",
       "      <td>0</td>\n",
       "      <td>0</td>\n",
       "      <td>0</td>\n",
       "      <td>0</td>\n",
       "      <td>0</td>\n",
       "      <td>0</td>\n",
       "      <td>0</td>\n",
       "      <td>0</td>\n",
       "      <td>0</td>\n",
       "      <td>0</td>\n",
       "      <td>1</td>\n",
       "      <td>0</td>\n",
       "      <td>1</td>\n",
       "      <td>0</td>\n",
       "    </tr>\n",
       "    <tr>\n",
       "      <th>2</th>\n",
       "      <td>184</td>\n",
       "      <td>0.000000</td>\n",
       "      <td>0.788830</td>\n",
       "      <td>3</td>\n",
       "      <td>0.000000</td>\n",
       "      <td>0.834988</td>\n",
       "      <td>0</td>\n",
       "      <td>3.000000</td>\n",
       "      <td>0</td>\n",
       "      <td>0</td>\n",
       "      <td>0</td>\n",
       "      <td>0</td>\n",
       "      <td>0</td>\n",
       "      <td>0</td>\n",
       "      <td>0</td>\n",
       "      <td>0</td>\n",
       "      <td>0</td>\n",
       "      <td>0</td>\n",
       "      <td>0</td>\n",
       "      <td>0</td>\n",
       "      <td>0</td>\n",
       "      <td>1</td>\n",
       "      <td>0</td>\n",
       "      <td>0</td>\n",
       "      <td>0</td>\n",
       "      <td>1</td>\n",
       "    </tr>\n",
       "    <tr>\n",
       "      <th>3</th>\n",
       "      <td>206</td>\n",
       "      <td>0.000000</td>\n",
       "      <td>0.575688</td>\n",
       "      <td>4</td>\n",
       "      <td>0.000000</td>\n",
       "      <td>0.424764</td>\n",
       "      <td>0</td>\n",
       "      <td>2.000000</td>\n",
       "      <td>0</td>\n",
       "      <td>0</td>\n",
       "      <td>1</td>\n",
       "      <td>0</td>\n",
       "      <td>0</td>\n",
       "      <td>0</td>\n",
       "      <td>0</td>\n",
       "      <td>0</td>\n",
       "      <td>0</td>\n",
       "      <td>0</td>\n",
       "      <td>0</td>\n",
       "      <td>0</td>\n",
       "      <td>0</td>\n",
       "      <td>1</td>\n",
       "      <td>0</td>\n",
       "      <td>0</td>\n",
       "      <td>1</td>\n",
       "      <td>0</td>\n",
       "    </tr>\n",
       "    <tr>\n",
       "      <th>4</th>\n",
       "      <td>249</td>\n",
       "      <td>0.000000</td>\n",
       "      <td>0.845217</td>\n",
       "      <td>3</td>\n",
       "      <td>0.000000</td>\n",
       "      <td>0.779043</td>\n",
       "      <td>0</td>\n",
       "      <td>3.000000</td>\n",
       "      <td>0</td>\n",
       "      <td>0</td>\n",
       "      <td>0</td>\n",
       "      <td>1</td>\n",
       "      <td>0</td>\n",
       "      <td>0</td>\n",
       "      <td>0</td>\n",
       "      <td>0</td>\n",
       "      <td>0</td>\n",
       "      <td>0</td>\n",
       "      <td>0</td>\n",
       "      <td>0</td>\n",
       "      <td>0</td>\n",
       "      <td>1</td>\n",
       "      <td>0</td>\n",
       "      <td>0</td>\n",
       "      <td>1</td>\n",
       "      <td>0</td>\n",
       "    </tr>\n",
       "  </tbody>\n",
       "</table>\n",
       "</div>"
      ],
      "text/plain": [
       "   avg_monthly_hrs  filed_complaint  last_evaluation  n_projects  \\\n",
       "0              221         0.000000         0.932868           4   \n",
       "1              232         0.000000         0.000000           3   \n",
       "2              184         0.000000         0.788830           3   \n",
       "3              206         0.000000         0.575688           4   \n",
       "4              249         0.000000         0.845217           3   \n",
       "\n",
       "   recently_promoted  satisfaction  status   tenure  last_evaluation_missing  \\\n",
       "0           0.000000      0.829896       1 5.000000                        0   \n",
       "1           0.000000      0.834544       0 2.000000                        1   \n",
       "2           0.000000      0.834988       0 3.000000                        0   \n",
       "3           0.000000      0.424764       0 2.000000                        0   \n",
       "4           0.000000      0.779043       0 3.000000                        0   \n",
       "\n",
       "   unhappy  underperformer  overachiever  department_IT  department_Missing  \\\n",
       "0        0               0             1              0                   0   \n",
       "1        0               0             0              0                   0   \n",
       "2        0               0             0              0                   0   \n",
       "3        0               1             0              0                   0   \n",
       "4        0               0             1              0                   0   \n",
       "\n",
       "   department_admin  department_engineering  department_finance  \\\n",
       "0                 0                       1                   0   \n",
       "1                 0                       0                   0   \n",
       "2                 0                       0                   0   \n",
       "3                 0                       0                   0   \n",
       "4                 0                       0                   0   \n",
       "\n",
       "   department_management  department_marketing  department_procurement  \\\n",
       "0                      0                     0                       0   \n",
       "1                      0                     0                       0   \n",
       "2                      0                     0                       0   \n",
       "3                      0                     0                       0   \n",
       "4                      0                     0                       0   \n",
       "\n",
       "   department_product  department_sales  department_support  salary_high  \\\n",
       "0                   0                 0                   0            0   \n",
       "1                   0                 0                   1            0   \n",
       "2                   0                 1                   0            0   \n",
       "3                   0                 1                   0            0   \n",
       "4                   0                 1                   0            0   \n",
       "\n",
       "   salary_low  salary_medium  \n",
       "0           1              0  \n",
       "1           1              0  \n",
       "2           0              1  \n",
       "3           1              0  \n",
       "4           1              0  "
      ]
     },
     "execution_count": 23,
     "metadata": {},
     "output_type": "execute_result"
    }
   ],
   "source": [
    "analytical_base_table.head()"
   ]
  },
  {
   "cell_type": "code",
   "execution_count": 24,
   "metadata": {},
   "outputs": [],
   "source": [
    "X = analytical_base_table.drop('status', axis=1)\n",
    "y = analytical_base_table.status"
   ]
  },
  {
   "cell_type": "markdown",
   "metadata": {},
   "source": [
    "Now you can pass <code style=\"color:steelblue\">X</code> and <code style=\"color:steelblue\">y</code> to the <code style=\"color:steelblue\">train_test_split()</code> function. If you forgot to import this function, you can go back and import it. When in doubt, this <a href=\"http://scikit-learn.org/stable/modules/classes.html\" target=\"_blank\">documentation page</a> is a great resource. Simply search (Windows Control + F or Mac Command + F) for the function you want. The prefix before the function name is where it's located. For example:\n",
    "\n",
    "<pre style=\"color:steelblue\">\n",
    "    from sklearn<strong>.model_selection</strong> import <strong>train_test_split</strong>\n",
    "</pre>\n",
    "\n",
    "#### B.) After you've imported the function, split <code style=\"color:steelblue\">X</code> and <code style=\"color:steelblue\">y</code> into training and test sets.\n",
    "* Pass in the argument <code style=\"color:steelblue\">test_size=<span style=\"color:crimson\">0.2</span></code> to set aside 20% of our observations for the test set.\n",
    "* Pass in <code style=\"color:steelblue\">random_state=<span style=\"color:crimson\">1234</span></code> to set the random state for replicable results.\n",
    "* **Important:** Also pass in the argument <code style=\"color:steelblue\">stratify=<span style=\"color:crimson\">abt.status</span></code> in order to make sure the target variable's classes are balanced in each subset of data! This is **stratified random sampling**.\n",
    "* Then, print the number of observations in each subset to check that it was done correctly."
   ]
  },
  {
   "cell_type": "code",
   "execution_count": 25,
   "metadata": {},
   "outputs": [
    {
     "name": "stdout",
     "output_type": "stream",
     "text": [
      "11254 2814 11254 2814\n"
     ]
    }
   ],
   "source": [
    "# split X into x_train & x_test  and split y into y_train & y_test\n",
    "x_train, x_test, y_train, y_test = train_test_split(X, y, random_state=1234, test_size=0.2, stratify=analytical_base_table.status)\n",
    "\n",
    "print(len(x_train), len(x_test), len(y_train), len(y_test))"
   ]
  },
  {
   "cell_type": "markdown",
   "metadata": {},
   "source": [
    "<strong style=\"color:RoyalBlue\">Expected output:</strong>\n",
    "<pre>\n",
    "11254 2814 11254 2814\n",
    "</pre>"
   ]
  },
  {
   "cell_type": "markdown",
   "metadata": {},
   "source": [
    "## <span style=\"color:RoyalBlue\">Exercise 4.2 - Build Model Pipelines</span>\n",
    "\n",
    "Next, let's set up preprocessing pipelines for each of our algorithms. Remember, it's almost always useful to **standardize** our features, or bring them to the same scale.\n",
    "\n",
    "#### A.) First, make sure you've imported 2 important tools for this step.\n",
    "* <code style=\"color:steelblue\">make_pipeline()</code> for building the pipeline.\n",
    "* <code style=\"color:steelblue\">StandardScaler()</code> for standardization.\n",
    "* Again, this <a href=\"http://scikit-learn.org/stable/modules/classes.html\" target=\"_blank\">documentation page</a> is a great resource.\n",
    "\n",
    "#### B.) Next, create a single <span style=\"color:royalblue\">pipeline dictionary</span> with pipelines for each algorithm.\n",
    "* Use the keys:\n",
    "    * <code style=\"color:crimson\">'l1'</code> for $L_1$-regularized logistic regression\n",
    "    * <code style=\"color:crimson\">'l2'</code> for $L_2$-regularized logistic regression\n",
    "    * <code style=\"color:crimson\">'rf'</code> for random forest\n",
    "    * <code style=\"color:crimson\">'gb'</code> for gradient boosted tree.\n",
    "* Each pipeline should standardize the data first.\n",
    "* Remember to set <code style=\"color:steelblue\">random_state=<span style=\"color:crimson\">123</span></code> for each algorithm to ensure replicable results."
   ]
  },
  {
   "cell_type": "code",
   "execution_count": 26,
   "metadata": {},
   "outputs": [],
   "source": [
    "pipelines = {\n",
    "    'l1': make_pipeline(StandardScaler(), LogisticRegression(penalty='l1', random_state=123, solver='liblinear')),\n",
    "    'l2': make_pipeline(StandardScaler(), LogisticRegression(penalty='l2', random_state=123)),\n",
    "    'rf': make_pipeline(StandardScaler(), RandomForestClassifier(random_state=123)),\n",
    "    'gb': make_pipeline(StandardScaler(), GradientBoostingClassifier(random_state=123))\n",
    "}"
   ]
  },
  {
   "cell_type": "markdown",
   "metadata": {},
   "source": [
    "Now that we have our pipelines, we're ready to move on to declaring hyperparameters to tune."
   ]
  },
  {
   "cell_type": "markdown",
   "metadata": {},
   "source": [
    "## <span style=\"color:RoyalBlue\">Exercise 4.3 - Declare Hyperparameter Grids</span>\n",
    "\n",
    "Remember, there are two types of parameters we need to worry about when using machine learning algorithms. \n",
    "* Model parameters\n",
    "* Hyperparamters\n",
    "\n",
    "The key distinction is that model parameters can be learned directly from the training data while hyperparameters cannot (so they must be **tuned**)!\n",
    "\n",
    "#### A.) First, list the tunable hyperparameters of your $L_1$-regularized logistic regression pipeline."
   ]
  },
  {
   "cell_type": "code",
   "execution_count": 27,
   "metadata": {},
   "outputs": [
    {
     "data": {
      "text/plain": [
       "{'memory': None,\n",
       " 'steps': [('standardscaler', StandardScaler()),\n",
       "  ('logisticregression',\n",
       "   LogisticRegression(penalty='l1', random_state=123, solver='liblinear'))],\n",
       " 'verbose': False,\n",
       " 'standardscaler': StandardScaler(),\n",
       " 'logisticregression': LogisticRegression(penalty='l1', random_state=123, solver='liblinear'),\n",
       " 'standardscaler__copy': True,\n",
       " 'standardscaler__with_mean': True,\n",
       " 'standardscaler__with_std': True,\n",
       " 'logisticregression__C': 1.0,\n",
       " 'logisticregression__class_weight': None,\n",
       " 'logisticregression__dual': False,\n",
       " 'logisticregression__fit_intercept': True,\n",
       " 'logisticregression__intercept_scaling': 1,\n",
       " 'logisticregression__l1_ratio': None,\n",
       " 'logisticregression__max_iter': 100,\n",
       " 'logisticregression__multi_class': 'auto',\n",
       " 'logisticregression__n_jobs': None,\n",
       " 'logisticregression__penalty': 'l1',\n",
       " 'logisticregression__random_state': 123,\n",
       " 'logisticregression__solver': 'liblinear',\n",
       " 'logisticregression__tol': 0.0001,\n",
       " 'logisticregression__verbose': 0,\n",
       " 'logisticregression__warm_start': False}"
      ]
     },
     "execution_count": 27,
     "metadata": {},
     "output_type": "execute_result"
    }
   ],
   "source": [
    "# list tunable hyperparameters of l1 regularised logistic regression pipeline\n",
    "\n",
    "pipelines['l1'].get_params()"
   ]
  },
  {
   "cell_type": "markdown",
   "metadata": {},
   "source": [
    "<strong style=\"color:RoyalBlue\">Expected output:</strong>\n",
    "<pre>\n",
    "{'memory': None,\n",
    " 'steps': [('standardscaler',\n",
    "   StandardScaler(copy=True, with_mean=True, with_std=True)),\n",
    "  ('logisticregression',\n",
    "   LogisticRegression(C=1.0, class_weight=None, dual=False, fit_intercept=True,\n",
    "             intercept_scaling=1, max_iter=100, multi_class='ovr', n_jobs=1,\n",
    "             penalty='l1', random_state=123, solver='liblinear', tol=0.0001,\n",
    "             verbose=0, warm_start=False))],\n",
    " 'standardscaler': StandardScaler(copy=True, with_mean=True, with_std=True),\n",
    " 'logisticregression': LogisticRegression(C=1.0, class_weight=None, dual=False, fit_intercept=True,\n",
    "           intercept_scaling=1, max_iter=100, multi_class='ovr', n_jobs=1,\n",
    "           penalty='l1', random_state=123, solver='liblinear', tol=0.0001,\n",
    "           verbose=0, warm_start=False),\n",
    " 'standardscaler__copy': True,\n",
    " 'standardscaler__with_mean': True,\n",
    " 'standardscaler__with_std': True,\n",
    " 'logisticregression__C': 1.0,\n",
    " 'logisticregression__class_weight': None,\n",
    " 'logisticregression__dual': False,\n",
    " 'logisticregression__fit_intercept': True,\n",
    " 'logisticregression__intercept_scaling': 1,\n",
    " 'logisticregression__max_iter': 100,\n",
    " 'logisticregression__multi_class': 'ovr',\n",
    " 'logisticregression__n_jobs': 1,\n",
    " 'logisticregression__penalty': 'l1',\n",
    " 'logisticregression__random_state': 123,\n",
    " 'logisticregression__solver': 'liblinear',\n",
    " 'logisticregression__tol': 0.0001,\n",
    " 'logisticregression__verbose': 0,\n",
    " 'logisticregression__warm_start': False}\n",
    "</pre>"
   ]
  },
  {
   "cell_type": "markdown",
   "metadata": {},
   "source": [
    "All of the keys that begin with <code style=\"color:crimson\">'logisticregression__'</code> are hyperparameters. Fortunately, you don't need to tune all of them. For **regularized logistic regression**, the most impactful hyperparameter is the **strength of the penalty**. \n",
    "\n",
    "Remember, for Lasso, Ridge, and Elastic-Net, this was <code style=\"color:steelblue;\">alpha</code>. But for Logistic regrssion, it's actually <code style=\"color:steelblue; font-weight:bold\">C</code>.\n",
    "* <code style=\"color:steelblue;\">C</code> is the **inverse** of regularization strength!\n",
    "* That means higher values of <code style=\"color:steelblue;\">C</code> mean weaker penalties.\n",
    "* <code style=\"color:steelblue\">C</code> is a positive value, typically between 0 and 1000.\n",
    "* The default is 1.0.\n",
    "* We recommend trying values between 0.001 and 1000 to start with.\n",
    "\n",
    "#### B.) Declare the hyperparameter grids for     <code style=\"color:crimson\">l1</code> ($L_1$-regularized logistic regression) and <code style=\"color:crimson\">l2</code> ($L_2$-regularized logistic regression).\n",
    "* Try the following values for <code>C</code>: <code>[0.001, 0.005, 0.01, 0.05, 0.1, 0.5, 1, 5, 10, 50, 100, 500, 1000]</code>\n",
    "* Remember to include the correct **prefix**!"
   ]
  },
  {
   "cell_type": "code",
   "execution_count": 28,
   "metadata": {},
   "outputs": [],
   "source": [
    "l1_params = {\n",
    "    'logisticregression__C': [0.001, 0.005, 0.01, 0.05, 0.1, 0.5, 1, 5, 10, 50, 100, 500, 1000]\n",
    "}\n",
    "\n",
    "l2_params = {\n",
    "    'logisticregression__C': [0.001, 0.005, 0.01, 0.05, 0.1, 0.5, 1, 5, 10, 50, 100, 500, 1000]\n",
    "}"
   ]
  },
  {
   "cell_type": "markdown",
   "metadata": {},
   "source": [
    "#### C.) Next, declare the hyperparameter grid for your  random forest.\n",
    "* For **random forests**, the first hyperparameter to tune is <code style=\"color:steelblue; font-weight:bold\">n_estimators</code>. Let's try <code style=\"color:crimson\">100</code> and <code style=\"color:crimson\">200</code>.\n",
    "\n",
    "* The second one we'll tune is <code style=\"color:steelblue; font-weight:bold\">max_features</code>. We'll try <code style=\"color:crimson\">'auto'</code>, <code style=\"color:crimson\">'sqrt'</code>, and <code style=\"color:crimson\">0.33</code>.\n",
    "\n",
    "* The third one we'll tune is <code style=\"color:steelblue; font-weight:bold\">min_samples_leaf</code>. Let's try <code>[1, 3, 5, 10]</code>.\n",
    "\n",
    "* Remember to include the correct **prefix**!"
   ]
  },
  {
   "cell_type": "code",
   "execution_count": 29,
   "metadata": {},
   "outputs": [
    {
     "data": {
      "text/plain": [
       "{'memory': None,\n",
       " 'steps': [('standardscaler', StandardScaler()),\n",
       "  ('randomforestclassifier', RandomForestClassifier(random_state=123))],\n",
       " 'verbose': False,\n",
       " 'standardscaler': StandardScaler(),\n",
       " 'randomforestclassifier': RandomForestClassifier(random_state=123),\n",
       " 'standardscaler__copy': True,\n",
       " 'standardscaler__with_mean': True,\n",
       " 'standardscaler__with_std': True,\n",
       " 'randomforestclassifier__bootstrap': True,\n",
       " 'randomforestclassifier__ccp_alpha': 0.0,\n",
       " 'randomforestclassifier__class_weight': None,\n",
       " 'randomforestclassifier__criterion': 'gini',\n",
       " 'randomforestclassifier__max_depth': None,\n",
       " 'randomforestclassifier__max_features': 'auto',\n",
       " 'randomforestclassifier__max_leaf_nodes': None,\n",
       " 'randomforestclassifier__max_samples': None,\n",
       " 'randomforestclassifier__min_impurity_decrease': 0.0,\n",
       " 'randomforestclassifier__min_impurity_split': None,\n",
       " 'randomforestclassifier__min_samples_leaf': 1,\n",
       " 'randomforestclassifier__min_samples_split': 2,\n",
       " 'randomforestclassifier__min_weight_fraction_leaf': 0.0,\n",
       " 'randomforestclassifier__n_estimators': 100,\n",
       " 'randomforestclassifier__n_jobs': None,\n",
       " 'randomforestclassifier__oob_score': False,\n",
       " 'randomforestclassifier__random_state': 123,\n",
       " 'randomforestclassifier__verbose': 0,\n",
       " 'randomforestclassifier__warm_start': False}"
      ]
     },
     "execution_count": 29,
     "metadata": {},
     "output_type": "execute_result"
    }
   ],
   "source": [
    "pipelines['rf'].get_params()"
   ]
  },
  {
   "cell_type": "code",
   "execution_count": 30,
   "metadata": {},
   "outputs": [],
   "source": [
    "rf_params = {\n",
    "    'randomforestclassifier__n_estimators': [100, 200],\n",
    "    'randomforestclassifier__max_features': ['auto', 'sqrt', 0.33],\n",
    "    'randomforestclassifier__min_samples_leaf': [1, 3, 5, 10]\n",
    "}"
   ]
  },
  {
   "cell_type": "markdown",
   "metadata": {},
   "source": [
    "#### D.) Next, declare the hyperparameter grid for the boosted tree.\n",
    "* For **boosted trees**, we'll tune <code style=\"color:steelblue; font-weight:bold\">n_estimators</code> as well. We'll try <code style=\"color:crimson\">100</code> and <code style=\"color:crimson\">200</code>.\n",
    "\n",
    "* The second one we'll tune is <code style=\"color:steelblue; font-weight:bold\">learning_rate</code>. We'll try <code style=\"color:crimson\">0.05</code>, <code style=\"color:crimson\">0.1</code>, and <code style=\"color:crimson\">0.2</code>.\n",
    "\n",
    "* Finally, we'll tune <code style=\"color:steelblue; font-weight:bold\">max_depth</code>. We'll try <code style=\"color:crimson\">1</code>, <code style=\"color:crimson\">3</code>, and <code style=\"color:crimson\">5</code>."
   ]
  },
  {
   "cell_type": "code",
   "execution_count": 31,
   "metadata": {},
   "outputs": [
    {
     "data": {
      "text/plain": [
       "{'memory': None,\n",
       " 'steps': [('standardscaler', StandardScaler()),\n",
       "  ('gradientboostingclassifier',\n",
       "   GradientBoostingClassifier(random_state=123))],\n",
       " 'verbose': False,\n",
       " 'standardscaler': StandardScaler(),\n",
       " 'gradientboostingclassifier': GradientBoostingClassifier(random_state=123),\n",
       " 'standardscaler__copy': True,\n",
       " 'standardscaler__with_mean': True,\n",
       " 'standardscaler__with_std': True,\n",
       " 'gradientboostingclassifier__ccp_alpha': 0.0,\n",
       " 'gradientboostingclassifier__criterion': 'friedman_mse',\n",
       " 'gradientboostingclassifier__init': None,\n",
       " 'gradientboostingclassifier__learning_rate': 0.1,\n",
       " 'gradientboostingclassifier__loss': 'deviance',\n",
       " 'gradientboostingclassifier__max_depth': 3,\n",
       " 'gradientboostingclassifier__max_features': None,\n",
       " 'gradientboostingclassifier__max_leaf_nodes': None,\n",
       " 'gradientboostingclassifier__min_impurity_decrease': 0.0,\n",
       " 'gradientboostingclassifier__min_impurity_split': None,\n",
       " 'gradientboostingclassifier__min_samples_leaf': 1,\n",
       " 'gradientboostingclassifier__min_samples_split': 2,\n",
       " 'gradientboostingclassifier__min_weight_fraction_leaf': 0.0,\n",
       " 'gradientboostingclassifier__n_estimators': 100,\n",
       " 'gradientboostingclassifier__n_iter_no_change': None,\n",
       " 'gradientboostingclassifier__random_state': 123,\n",
       " 'gradientboostingclassifier__subsample': 1.0,\n",
       " 'gradientboostingclassifier__tol': 0.0001,\n",
       " 'gradientboostingclassifier__validation_fraction': 0.1,\n",
       " 'gradientboostingclassifier__verbose': 0,\n",
       " 'gradientboostingclassifier__warm_start': False}"
      ]
     },
     "execution_count": 31,
     "metadata": {},
     "output_type": "execute_result"
    }
   ],
   "source": [
    "pipelines['gb'].get_params()"
   ]
  },
  {
   "cell_type": "code",
   "execution_count": 32,
   "metadata": {},
   "outputs": [],
   "source": [
    "gb_params = {\n",
    "    'gradientboostingclassifier__n_estimators': [100, 200],\n",
    "    'gradientboostingclassifier__learning_rate': [0.05, 0.1, 0.2],\n",
    "    'gradientboostingclassifier__max_depth': [1, 3, 5]\n",
    "}"
   ]
  },
  {
   "cell_type": "markdown",
   "metadata": {},
   "source": [
    "#### E.) Finally, now that we have all of our hyperparameters declared, let's store them in a dictionary for ease of access.\n",
    "* Create a <code style=\"color:steelblue\">hyperparameters</code> dictionary.\n",
    "* Use the same keys as in the <code style=\"color:steelblue\">pipelines</code> dictionary."
   ]
  },
  {
   "cell_type": "code",
   "execution_count": 33,
   "metadata": {},
   "outputs": [],
   "source": [
    "hyperparameters ={\n",
    "    'l1': l1_params,\n",
    "    'l2': l2_params,\n",
    "    'rf': rf_params,\n",
    "    'gb': gb_params\n",
    "}"
   ]
  },
  {
   "cell_type": "markdown",
   "metadata": {},
   "source": [
    "## <span style=\"color:RoyalBlue\">Exercise 4.4 - Fit and Tune Models with Cross-Validation</span>\n",
    "\n",
    "Now that we have our <code style=\"color:steelblue\">pipelines</code> and <code style=\"color:steelblue\">hyperparameters</code> dictionaries declared, we're ready to tune our models with **cross-validation**.\n",
    "\n",
    "#### A.) First, make sure you've imported the helper for cross-validation, <code style=\"color:steelblue\">GridSearchCV</code>.\n",
    "* Again, this <a href=\"http://scikit-learn.org/stable/modules/classes.html\" target=\"_blank\">documentation page</a> is a great resource.\n",
    "\n",
    "#### B.) Next, create a <code style=\"color:SteelBlue\">fitted_models</code> dictionary that includes models that have been tuned using cross-validation.\n",
    "* The keys should be the same as those in the <code style=\"color:SteelBlue\">pipelines</code> and <code style=\"color:SteelBlue\">hyperparameters</code> dictionaries. \n",
    "* The values should be <code style=\"color:steelblue\">GridSearchCV</code> objects that have been fitted to <code style=\"color:steelblue\">X_train</code> and <code style=\"color:steelblue\">y_train</code>.\n",
    "* After fitting each model, print <code style=\"color:crimson\">'{name} has been fitted.'</code> just to track the progress.\n",
    "* (Optionally) You can set <code style=\"color:steelblue\">n_jobs=<span style=\"color:crimson\">-1</span></code> to use as many cores as available on your computer.\n",
    "\n",
    "This step can take a few minutes, so please be patient. After kicking off your model training loop, feel free to get up, walk around, grab a beverage, etc."
   ]
  },
  {
   "cell_type": "code",
   "execution_count": 34,
   "metadata": {},
   "outputs": [
    {
     "name": "stdout",
     "output_type": "stream",
     "text": [
      "l1 has been fitted\n",
      "l2 has been fitted\n",
      "rf has been fitted\n",
      "gb has been fitted\n"
     ]
    }
   ],
   "source": [
    "fitted_models={}\n",
    "\n",
    "for name, pipeline in pipelines.items():\n",
    "    model = GridSearchCV(pipeline, hyperparameters[name], n_jobs=-1)\n",
    "    \n",
    "    model.fit(x_train, y_train)\n",
    "    fitted_models[name] = model\n",
    "    \n",
    "    print('{} has been fitted'.format(name))"
   ]
  },
  {
   "cell_type": "markdown",
   "metadata": {},
   "source": [
    "## <span style=\"color:RoyalBlue\">Exercise 4.5 - AUROC Review</span>\n",
    "\n",
    "Finally, it's time to evaluate our models and pick the best one. Just as in the previous project, we'll first evaluate the models by looking at their **cross-validated performance** on the training set.\n",
    "\n",
    "#### A.) First, display the <code style=\"color:steelblue\">best\\_score_</code> attribute for each fitted model.\n",
    "* If you get different numbers, check to see that you've set the <code style=\"color:steelblue\">random_state=</code> correctly for each of the models.\n"
   ]
  },
  {
   "cell_type": "code",
   "execution_count": 35,
   "metadata": {},
   "outputs": [
    {
     "name": "stdout",
     "output_type": "stream",
     "text": [
      "l1 0.8477877091662964\n",
      "l2 0.8477877091662964\n",
      "rf 0.9786742484821561\n",
      "gb 0.9751200355397602\n"
     ]
    }
   ],
   "source": [
    "for name, model in fitted_models.items():\n",
    "    print(name, model.best_score_)"
   ]
  },
  {
   "cell_type": "markdown",
   "metadata": {},
   "source": [
    "<strong style=\"color:RoyalBlue\">Expected output:</strong>\n",
    "<pre>\n",
    "l1 0.8493868846632309\n",
    "l2 0.8493868846632309\n",
    "rf 0.979651679402879\n",
    "gb 0.9752088146436823\n",
    "</pre>"
   ]
  },
  {
   "cell_type": "markdown",
   "metadata": {},
   "source": [
    "Those scores are **holdout accuracy** scores. For classification problems, the default scoring metric is accuracy.\n",
    "* Accuracy is simply the percent of observations correctly classified by the model.\n",
    "* Because it's the average accuracy from the **holdout folds**, higher is almost always better.\n",
    "\n",
    "However, as you'll remember from the Coding Section, straight accuracy is not always the best way to evaluate a classification model. "
   ]
  },
  {
   "cell_type": "markdown",
   "metadata": {},
   "source": [
    "#### B.) Get the predicted classes from your $L_1$-regularized logistic regression and display the first 10. \n",
    "* Remember to use <code style=\"color:steelblue\">.predict()</code> instead of <code style=\"color:steelblue\">.predict_proba()</code> to get the predicted classes directly."
   ]
  },
  {
   "cell_type": "code",
   "execution_count": null,
   "metadata": {},
   "outputs": [],
   "source": []
  },
  {
   "cell_type": "markdown",
   "metadata": {},
   "source": [
    "<strong style=\"color:RoyalBlue\">Expected output:</strong>\n",
    "<pre>\n",
    "[0 0 0 0 0 0 0 1 1 0]\n",
    "</pre>"
   ]
  },
  {
   "cell_type": "markdown",
   "metadata": {},
   "source": [
    "#### C.) Next, display the confusion matrix for the set of predictions from part (B). Answer the following questions.\n",
    "* How many observations were correctly classified?\n",
    "* How many true positives were there?\n",
    "* How many true negatives were there?\n",
    "* How many false positives were there?\n",
    "* How many false negatives were there?"
   ]
  },
  {
   "cell_type": "code",
   "execution_count": null,
   "metadata": {
    "scrolled": true
   },
   "outputs": [],
   "source": []
  },
  {
   "cell_type": "markdown",
   "metadata": {},
   "source": [
    "<strong style=\"color:RoyalBlue\">Expected output:</strong>\n",
    "<pre>\n",
    "[[1969  172]\n",
    " [ 220  453]]\n",
    "</pre>"
   ]
  },
  {
   "cell_type": "markdown",
   "metadata": {},
   "source": [
    "#### D.) Next, get the predicted positive class probabilities from your $L_1$-regularized logistic regression and display the first 10.\n",
    "* Note, for clarity, we rounded to 2 decimals."
   ]
  },
  {
   "cell_type": "code",
   "execution_count": null,
   "metadata": {
    "scrolled": true
   },
   "outputs": [],
   "source": []
  },
  {
   "cell_type": "markdown",
   "metadata": {},
   "source": [
    "<strong style=\"color:RoyalBlue\">Expected output:</strong>\n",
    "<pre>\n",
    "[0.03 0.   0.01 0.09 0.07 0.48 0.13 0.62 0.73 0.14]\n",
    "</pre>"
   ]
  },
  {
   "cell_type": "markdown",
   "metadata": {},
   "source": [
    "#### E.) Next, calculate the ROC curve for your $L_1$-regularized logistic regression using the <code style=\"color:steelblue\">roc_curve()</code> function that we imported earlier."
   ]
  },
  {
   "cell_type": "code",
   "execution_count": null,
   "metadata": {},
   "outputs": [],
   "source": []
  },
  {
   "cell_type": "markdown",
   "metadata": {},
   "source": [
    "#### F.) Plot the entire ROC curve for your $L_1$-regularized logistic regression."
   ]
  },
  {
   "cell_type": "code",
   "execution_count": null,
   "metadata": {},
   "outputs": [],
   "source": []
  },
  {
   "cell_type": "markdown",
   "metadata": {},
   "source": [
    "<strong style=\"color:RoyalBlue\">Expected output:</strong>\n",
    "<img src=\"data:image/png;base64,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&#10;\">"
   ]
  },
  {
   "cell_type": "markdown",
   "metadata": {},
   "source": [
    "#### G.) Finally, answer this question: What is the probability that a randomly chosen <code style=\"color:crimson\">'Left'</code> observation ranks higher (has a higher predicted probability) than a randomly chosen <code style=\"color:crimson\">'Employed'</code> observation?"
   ]
  },
  {
   "cell_type": "code",
   "execution_count": null,
   "metadata": {},
   "outputs": [],
   "source": []
  },
  {
   "cell_type": "markdown",
   "metadata": {},
   "source": [
    "<strong style=\"color:RoyalBlue\">Expected output:</strong>\n",
    "<pre>\n",
    "0.9015388373737675\n",
    "</pre>"
   ]
  },
  {
   "cell_type": "markdown",
   "metadata": {},
   "source": [
    "## <span style=\"color:RoyalBlue\">Exercise 4.6 - Pick the Winner</span>\n",
    "\n",
    "Now that we've taken a detour to dive into some of the intuition behind AUROC, let's calculate it for each of our fitted models on the test set.\n",
    "\n",
    "#### A.) Using a <code style=\"color:SteelBlue\">for</code> loop, print the AUROC performance of each model in <code style=\"color:SteelBlue\">fitted_models</code> on the test set.\n",
    "* Label the output with the name of the algorithm. For example:\n",
    "\n",
    "<pre style=\"color:crimson\">\n",
    "rf 0.9915201892159932\n",
    "</pre>\n",
    "\n",
    "* Which model had the highest test AUROC?\n",
    "* Did it also have the highest cross-validated score?"
   ]
  },
  {
   "cell_type": "code",
   "execution_count": null,
   "metadata": {},
   "outputs": [],
   "source": []
  },
  {
   "cell_type": "markdown",
   "metadata": {},
   "source": [
    "<strong style=\"color:RoyalBlue\">Expected output:</strong>\n",
    "<pre>\n",
    "l1 0.9015388373737675\n",
    "l2 0.9015367553315894\n",
    "rf 0.9915201892159932\n",
    "gb 0.9886802836851869\n",
    "</pre>"
   ]
  },
  {
   "cell_type": "markdown",
   "metadata": {},
   "source": [
    "Let's save the winning model. Make sure you've already imported the <code style=\"color:steelblue\">pickle</code> package.\n",
    "\n",
    "#### B.) Finally, save the winning <code style=\"color:steelblue\">Pipeline</code> object into a pickle file.\n",
    "* Just save the <code style=\"color:steelblue\">Pipeline</code>, not the <code style=\"color:steelblue\">GridSearchCV</code> object.\n",
    "* **Hint:** Remember the <code style=\"color:steelblue\">.best\\_estimator_</code> attribute?"
   ]
  },
  {
   "cell_type": "code",
   "execution_count": null,
   "metadata": {},
   "outputs": [],
   "source": []
  },
  {
   "cell_type": "markdown",
   "metadata": {},
   "source": [
    "Congratulations for making through this model training and evaluation module! As a reminder, here are a few things you did in this module:\n",
    "* You split your dataset into training and test sets.\n",
    "* You set up model pipelines and hyperparameter grids.\n",
    "* You tuned your models using cross-validation.\n",
    "* You learned about how AUROC is a more effective metric for classification than simple accuracy.\n",
    "* And finally, you saved the winning model.\n",
    "\n",
    "In the next module, we'll see how you can go the extra mile in terms of project delivery. That includes preparing to apply your model to raw data and packaging it up into an executable script."
   ]
  }
 ],
 "metadata": {
  "anaconda-cloud": {},
  "kernelspec": {
   "display_name": "Python 3 (ipykernel)",
   "language": "python",
   "name": "python3"
  },
  "language_info": {
   "codemirror_mode": {
    "name": "ipython",
    "version": 3
   },
   "file_extension": ".py",
   "mimetype": "text/x-python",
   "name": "python",
   "nbconvert_exporter": "python",
   "pygments_lexer": "ipython3",
   "version": "3.9.7"
  }
 },
 "nbformat": 4,
 "nbformat_minor": 1
}
