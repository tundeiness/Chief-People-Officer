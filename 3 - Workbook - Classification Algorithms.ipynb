{
 "cells": [
  {
   "cell_type": "markdown",
   "metadata": {},
   "source": [
    "#### COMPANION WORKBOOK\n",
    "\n",
    "# Classification Algorithms\n",
    "\n",
    "To make the most out of this program, we strongly recommend you to:\n",
    "1. First practice writing and implementing all of the code from Coding Section of the online module.\n",
    "2. Then, freely experiment with and explore any interesting or confusing concepts. Simply insert new code cells and then use the help of Google and official documentation.\n",
    "3. Finally, tackle all of the exercises at the end. They will help you tie everything together and **learn in context.**\n",
    "\n",
    "#### <span style=\"color:#555\">MODULE CODE SANDBOX</span>\n",
    "\n",
    "Use this space to practice writing and implementing all of the code from Coding Section of the online module. Insert new code cells as needed, and feel free to write notes to yourself in Markdown."
   ]
  },
  {
   "cell_type": "markdown",
   "metadata": {},
   "source": [
    "## I. Binary Classification\n",
    "\n",
    "#### First, let's import the libraries that we'll need (again, we purposely left this blank to allow you to practice this for yourself).\n",
    "* If you forget a library, you can always add it later and re-run this code cell."
   ]
  },
  {
   "cell_type": "code",
   "execution_count": 1,
   "metadata": {},
   "outputs": [],
   "source": [
    "# NumPy and Pandas\n",
    "import numpy as np\n",
    "import pandas as pd\n",
    "\n",
    "pd.set_option('display.max_columns', 100)\n",
    "pd.set_option('display.float_format', lambda x: '% 3f' % x)\n",
    "\n",
    "\n",
    "# Matplotlib, and remember to display plots in the notebook\n",
    "from matplotlib import pyplot as plt\n",
    "%matplotlib inline\n",
    "\n",
    "\n",
    "# Seaborn for easier visualization\n",
    "import seaborn as sns\n",
    "sns.set_style('darkgrid')\n"
   ]
  },
  {
   "cell_type": "code",
   "execution_count": 2,
   "metadata": {},
   "outputs": [
    {
     "name": "stdout",
     "output_type": "stream",
     "text": [
      "['Left' 'Employed']\n"
     ]
    },
    {
     "data": {
      "text/plain": [
       "0        Left\n",
       "1    Employed\n",
       "2    Employed\n",
       "3    Employed\n",
       "4    Employed\n",
       "Name: status, dtype: object"
      ]
     },
     "execution_count": 2,
     "metadata": {},
     "output_type": "execute_result"
    }
   ],
   "source": [
    "raw_df = pd.read_csv('employee_data.csv')\n",
    "\n",
    "print(raw_df.status.unique())\n",
    "\n",
    "raw_df.status.head()"
   ]
  },
  {
   "cell_type": "code",
   "execution_count": 3,
   "metadata": {},
   "outputs": [
    {
     "name": "stdout",
     "output_type": "stream",
     "text": [
      "[1 0]\n"
     ]
    },
    {
     "data": {
      "text/plain": [
       "0    1\n",
       "1    0\n",
       "2    0\n",
       "3    0\n",
       "4    0\n",
       "Name: status, dtype: int64"
      ]
     },
     "execution_count": 3,
     "metadata": {},
     "output_type": "execute_result"
    }
   ],
   "source": [
    "abt_df = pd.read_csv('abt')\n",
    "print(abt_df.status.unique())\n",
    "\n",
    "abt_df.status.head()"
   ]
  },
  {
   "cell_type": "markdown",
   "metadata": {},
   "source": [
    "## II. Simulation: Noisy Conditional"
   ]
  },
  {
   "cell_type": "code",
   "execution_count": 4,
   "metadata": {},
   "outputs": [
    {
     "data": {
      "image/png": "[encoded data removed]",
      "text/plain": [
       "<Figure size 432x288 with 1 Axes>"
      ]
     },
     "metadata": {},
     "output_type": "display_data"
    }
   ],
   "source": [
    "x = np.linspace(0, 1, 100)\n",
    "plt.plot(x, x > 0.5, color='k')\n",
    "\n",
    "plt.show()"
   ]
  },
  {
   "cell_type": "code",
   "execution_count": 5,
   "metadata": {},
   "outputs": [],
   "source": [
    "# create input feature 'x'\n",
    "x = np.linspace(0, 1, 100)\n",
    "\n",
    "#set random seed to make the data consistent\n",
    "np.random.seed(555)\n",
    "\n",
    "#create noise\n",
    "noise = np.random.uniform(-0.2, 0.2, 100)\n",
    "\n",
    "y = ((x + noise) > 0.5).astype(int)"
   ]
  },
  {
   "cell_type": "code",
   "execution_count": 6,
   "metadata": {},
   "outputs": [
    {
     "name": "stdout",
     "output_type": "stream",
     "text": [
      "[0.         0.01010101 0.02020202 0.03030303 0.04040404 0.05050505\n",
      " 0.06060606 0.07070707 0.08080808 0.09090909 0.1010101  0.11111111\n",
      " 0.12121212 0.13131313 0.14141414 0.15151515 0.16161616 0.17171717\n",
      " 0.18181818 0.19191919 0.2020202  0.21212121 0.22222222 0.23232323\n",
      " 0.24242424 0.25252525 0.26262626 0.27272727 0.28282828 0.29292929\n",
      " 0.3030303  0.31313131 0.32323232 0.33333333 0.34343434 0.35353535\n",
      " 0.36363636 0.37373737 0.38383838 0.39393939 0.4040404  0.41414141\n",
      " 0.42424242 0.43434343 0.44444444 0.45454545 0.46464646 0.47474747\n",
      " 0.48484848 0.49494949 0.50505051 0.51515152 0.52525253 0.53535354\n",
      " 0.54545455 0.55555556 0.56565657 0.57575758 0.58585859 0.5959596\n",
      " 0.60606061 0.61616162 0.62626263 0.63636364 0.64646465 0.65656566\n",
      " 0.66666667 0.67676768 0.68686869 0.6969697  0.70707071 0.71717172\n",
      " 0.72727273 0.73737374 0.74747475 0.75757576 0.76767677 0.77777778\n",
      " 0.78787879 0.7979798  0.80808081 0.81818182 0.82828283 0.83838384\n",
      " 0.84848485 0.85858586 0.86868687 0.87878788 0.88888889 0.8989899\n",
      " 0.90909091 0.91919192 0.92929293 0.93939394 0.94949495 0.95959596\n",
      " 0.96969697 0.97979798 0.98989899 1.        ]\n"
     ]
    }
   ],
   "source": [
    "print(x)"
   ]
  },
  {
   "cell_type": "code",
   "execution_count": 7,
   "metadata": {},
   "outputs": [
    {
     "name": "stdout",
     "output_type": "stream",
     "text": [
      "[ 0.08713363 -0.18085795  0.17778879  0.07455202  0.03248293 -0.14292855\n",
      "  0.17836767 -0.06400377  0.04817418 -0.01881614 -0.10409303 -0.18619816\n",
      " -0.14056275  0.12434647  0.06124215  0.01778747 -0.18352209 -0.0127335\n",
      "  0.15549869 -0.00949658 -0.03500441  0.04644262 -0.07143338  0.03234771\n",
      " -0.04135438 -0.19196345 -0.02744164 -0.0355022   0.0516247   0.00100876\n",
      " -0.13514886  0.06675882 -0.14589108 -0.13202499 -0.11166787 -0.16533181\n",
      " -0.18126397 -0.18843678 -0.02452815  0.12342603  0.04534498  0.06438889\n",
      "  0.17144885 -0.0050617   0.05527141 -0.12596247 -0.09973849 -0.0213488\n",
      "  0.18904963 -0.01291879 -0.03701189  0.11443675 -0.05138596 -0.11194263\n",
      " -0.07686131 -0.0855263  -0.1410628   0.09718761  0.11772843 -0.06839182\n",
      " -0.17515881  0.18667855 -0.18612471  0.11691546 -0.19098823 -0.13612257\n",
      " -0.14154345  0.15311521 -0.12418197 -0.06608993 -0.03607173 -0.17687872\n",
      "  0.01695353  0.13868487  0.12988245 -0.10364139  0.00581495 -0.05809318\n",
      "  0.18733078  0.09981927  0.09130571  0.1381559  -0.03798221 -0.15659492\n",
      "  0.10105311  0.03484087  0.03670135  0.15835677  0.03583069 -0.14334489\n",
      "  0.0518901  -0.17224298  0.18374818 -0.08994293  0.04654655  0.15634773\n",
      "  0.09395895  0.15597619  0.17276832 -0.1874166 ]\n"
     ]
    }
   ],
   "source": [
    "print(noise)"
   ]
  },
  {
   "cell_type": "code",
   "execution_count": 8,
   "metadata": {},
   "outputs": [
    {
     "name": "stdout",
     "output_type": "stream",
     "text": [
      "[0 0 0 0 0 0 0 0 0 0 0 0 0 0 0 0 0 0 0 0 0 0 0 0 0 0 0 0 0 0 0 0 0 0 0 0 0\n",
      " 0 0 1 0 0 1 0 0 0 0 0 1 0 0 1 0 0 0 0 0 1 1 1 0 1 0 1 0 1 1 1 1 1 1 1 1 1\n",
      " 1 1 1 1 1 1 1 1 1 1 1 1 1 1 1 1 1 1 1 1 1 1 1 1 1 1]\n"
     ]
    }
   ],
   "source": [
    "print(y)"
   ]
  },
  {
   "cell_type": "code",
   "execution_count": 9,
   "metadata": {},
   "outputs": [
    {
     "data": {
      "image/png": "[encoded data removed]",
      "text/plain": [
       "<Figure size 432x288 with 1 Axes>"
      ]
     },
     "metadata": {},
     "output_type": "display_data"
    }
   ],
   "source": [
    "plt.scatter(x,y)\n",
    "plt.show()"
   ]
  },
  {
   "cell_type": "code",
   "execution_count": 10,
   "metadata": {},
   "outputs": [
    {
     "data": {
      "image/png": "[encoded data removed]",
      "text/plain": [
       "<Figure size 432x288 with 1 Axes>"
      ]
     },
     "metadata": {},
     "output_type": "display_data"
    }
   ],
   "source": [
    "plt.scatter(x, y)\n",
    "\n",
    "plt.plot(x, x > 0.5, 'k--')\n",
    "\n",
    "plt.show()"
   ]
  },
  {
   "cell_type": "code",
   "execution_count": null,
   "metadata": {},
   "outputs": [],
   "source": []
  },
  {
   "cell_type": "markdown",
   "metadata": {},
   "source": [
    "## III. Logistic Regression"
   ]
  },
  {
   "cell_type": "code",
   "execution_count": 11,
   "metadata": {},
   "outputs": [],
   "source": [
    "# Test out why linearRegression is not suitable for classification problems\n",
    "\n",
    "# import the linear regression and logistic regression model\n",
    "from sklearn.linear_model import LogisticRegression, LinearRegression\n",
    "\n",
    "# get shape of x\n",
    "\n",
    "x.shape\n",
    "\n",
    "# convert the dummy data generated into dataframe\n",
    "\n",
    "X = x.reshape(100, 1)\n"
   ]
  },
  {
   "cell_type": "code",
   "execution_count": 12,
   "metadata": {},
   "outputs": [
    {
     "name": "stdout",
     "output_type": "stream",
     "text": [
      "[0.         0.01010101 0.02020202 0.03030303 0.04040404]\n",
      "[[0.        ]\n",
      " [0.01010101]\n",
      " [0.02020202]\n",
      " [0.03030303]\n",
      " [0.04040404]]\n"
     ]
    }
   ],
   "source": [
    "# check the difference between x and X\n",
    "\n",
    "print(x[:5])\n",
    "\n",
    "print(X[:5])\n",
    "\n"
   ]
  },
  {
   "cell_type": "code",
   "execution_count": 15,
   "metadata": {},
   "outputs": [
    {
     "data": {
      "image/png": "[encoded data removed]",
      "text/plain": [
       "<Figure size 432x288 with 1 Axes>"
      ]
     },
     "metadata": {},
     "output_type": "display_data"
    }
   ],
   "source": [
    "# create an instance of LinearRegression\n",
    "model_linear = LinearRegression()\n",
    "\n",
    "# fit the model using X and y\n",
    "model_linear.fit(X, y)\n",
    "\n",
    "#plot dataset and make predictions\n",
    "\n",
    "plt.scatter(X, y)\n",
    "plt.plot(X, model_linear.predict(X), 'k--')\n",
    "\n",
    "plt.show()"
   ]
  },
  {
   "cell_type": "markdown",
   "metadata": {},
   "source": [
    "The result above shows why LinearRegression cannot be used for this task. Observe that the result obtained shows values between 1 and 0. However we want very high confidence. "
   ]
  },
  {
   "cell_type": "code",
   "execution_count": 16,
   "metadata": {},
   "outputs": [
    {
     "data": {
      "text/plain": [
       "LogisticRegression()"
      ]
     },
     "execution_count": 16,
     "metadata": {},
     "output_type": "execute_result"
    }
   ],
   "source": [
    "# Using Logistic regression\n",
    "# create an instance of Logistic regression\n",
    "\n",
    "model_logistic = LogisticRegression()\n",
    "\n",
    "# fit the instance to data\n",
    "model_logistic.fit(X, y)\n"
   ]
  },
  {
   "cell_type": "code",
   "execution_count": 17,
   "metadata": {},
   "outputs": [
    {
     "data": {
      "text/plain": [
       "array([0, 0, 0, 0, 0, 0, 0, 0, 0, 0, 0, 0, 0, 0, 0, 0, 0, 0, 0, 0, 0, 0,\n",
       "       0, 0, 0, 0, 0, 0, 0, 0, 0, 0, 0, 0, 0, 0, 0, 0, 0, 0, 0, 0, 0, 0,\n",
       "       0, 0, 0, 0, 0, 0, 0, 0, 0, 0, 0, 0, 0, 0, 1, 1, 1, 1, 1, 1, 1, 1,\n",
       "       1, 1, 1, 1, 1, 1, 1, 1, 1, 1, 1, 1, 1, 1, 1, 1, 1, 1, 1, 1, 1, 1,\n",
       "       1, 1, 1, 1, 1, 1, 1, 1, 1, 1, 1, 1])"
      ]
     },
     "execution_count": 17,
     "metadata": {},
     "output_type": "execute_result"
    }
   ],
   "source": [
    "# predict() vs predict_proba()\n",
    "\n",
    "# call predict method on the model\n",
    "model_logistic.predict(X)"
   ]
  },
  {
   "cell_type": "markdown",
   "metadata": {},
   "source": [
    "The above shows predicted classes but the task requires class probabilities. \n",
    "\n",
    "For classification problems it is better to use predict_proba() method instead of predict() method. \n",
    "\n",
    "Reason for this is that result obtained from using predict_proba() is suitable for calculating certain metrics and setting custom threshold"
   ]
  },
  {
   "cell_type": "code",
   "execution_count": 18,
   "metadata": {},
   "outputs": [
    {
     "data": {
      "text/plain": [
       "array([[0.92468588, 0.07531412],\n",
       "       [0.92156528, 0.07843472],\n",
       "       [0.9183268 , 0.0816732 ],\n",
       "       [0.91496694, 0.08503306],\n",
       "       [0.91148219, 0.08851781],\n",
       "       [0.907869  , 0.092131  ],\n",
       "       [0.90412385, 0.09587615],\n",
       "       [0.90024318, 0.09975682],\n",
       "       [0.89622347, 0.10377653],\n",
       "       [0.8920612 , 0.1079388 ]])"
      ]
     },
     "execution_count": 18,
     "metadata": {},
     "output_type": "execute_result"
    }
   ],
   "source": [
    "# testing predict_proba\n",
    "\n",
    "pred = model_logistic.predict_proba(X[:10])\n",
    "\n",
    "pred"
   ]
  },
  {
   "cell_type": "code",
   "execution_count": 19,
   "metadata": {},
   "outputs": [
    {
     "data": {
      "text/plain": [
       "array([0.92468588, 0.07531412])"
      ]
     },
     "execution_count": 19,
     "metadata": {},
     "output_type": "execute_result"
    }
   ],
   "source": [
    "# get class probabilities of first observation\n",
    "pred[0]"
   ]
  },
  {
   "cell_type": "code",
   "execution_count": null,
   "metadata": {},
   "outputs": [],
   "source": []
  },
  {
   "cell_type": "code",
   "execution_count": null,
   "metadata": {},
   "outputs": [],
   "source": []
  },
  {
   "cell_type": "markdown",
   "metadata": {},
   "source": [
    "## IV. The Return of Model Complexity"
   ]
  },
  {
   "cell_type": "code",
   "execution_count": null,
   "metadata": {},
   "outputs": [],
   "source": []
  },
  {
   "cell_type": "code",
   "execution_count": null,
   "metadata": {},
   "outputs": [],
   "source": []
  },
  {
   "cell_type": "code",
   "execution_count": null,
   "metadata": {},
   "outputs": [],
   "source": []
  },
  {
   "cell_type": "markdown",
   "metadata": {},
   "source": [
    "#### <span style=\"color:#555\">EXERCISES</span>\n",
    "\n",
    "Complete each of the following exercises."
   ]
  },
  {
   "cell_type": "markdown",
   "metadata": {},
   "source": [
    "## <span style=\"color:RoyalBlue\">Exercise 3.1 - Coding Section Checkpoint</span>\n",
    "\n",
    "Before moving on, it's imperative that you've been following along the online Coding Section of this module. Those are core to each module and often contain **mission-critical code**, which means that the following modules REQUIRE you to have run that code.\n",
    "\n",
    "#### A.) First, check that you've successfully generated the simulated noisy conditional dataset. Plot its scatterplot."
   ]
  },
  {
   "cell_type": "code",
   "execution_count": null,
   "metadata": {},
   "outputs": [],
   "source": []
  },
  {
   "cell_type": "markdown",
   "metadata": {},
   "source": [
    "<strong style=\"color:RoyalBlue\">Expected output:</strong>\n",
    "<img src=\"data:image/png;base64,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&#10;\">"
   ]
  },
  {
   "cell_type": "markdown",
   "metadata": {},
   "source": [
    "#### B.) Next, confirm that you've reshaped in the input feature $x$ to have 2 \"dimensions.\" Display the shape of <code>X</code>."
   ]
  },
  {
   "cell_type": "code",
   "execution_count": null,
   "metadata": {
    "scrolled": true
   },
   "outputs": [],
   "source": []
  },
  {
   "cell_type": "markdown",
   "metadata": {},
   "source": [
    "<strong style=\"color:RoyalBlue\">Expected output:</strong>\n",
    "<pre>\n",
    "(100, 1)\n",
    "</pre>"
   ]
  },
  {
   "cell_type": "markdown",
   "metadata": {},
   "source": [
    "#### C.) Finally, confirm that you've correctly written a helper function to help you fit and plot classifiers. Fit and plot an L1-regularized logistic regression on the noisy conditional dataset with $C = 0.5$.\n",
    "* What do you expect to see?"
   ]
  },
  {
   "cell_type": "code",
   "execution_count": null,
   "metadata": {},
   "outputs": [],
   "source": []
  },
  {
   "cell_type": "markdown",
   "metadata": {},
   "source": [
    "## <span style=\"color:RoyalBlue\">Exercise 3.2 - Random Forest Classifiers</span>\n",
    "\n",
    "In the Coding Section, we took a close look at regularized logistic regression, and we looked at how varying the model complexity affects the model. Now, let's do the same thing for our first tree ensemble, the random forest."
   ]
  },
  {
   "cell_type": "markdown",
   "metadata": {},
   "source": [
    "Just to recap, random forests train a large number of \"strong\" decision trees and combine their predictions through bagging. In addition, there are two sources of \"randomness\" for random forests:\n",
    "1. Each decision tree is only allowed to choose from a random subset of features to split on.\n",
    "2. Each decision tree is only trained on a random subset of observations (a process called **resampling**).\n",
    "\n",
    "#### A.) First, import the <code style=\"color:steelblue\">RandomForestClassifier</code> algorithm from <code style=\"color:steelblue\">sklearn.ensemble</code>."
   ]
  },
  {
   "cell_type": "code",
   "execution_count": null,
   "metadata": {},
   "outputs": [],
   "source": []
  },
  {
   "cell_type": "markdown",
   "metadata": {},
   "source": [
    "Now, we've alluded to \"default\" hyperparameter settings for various algorithms, but you can actually very easily see what they are for yourself.\n",
    "\n",
    "#### B.) Simply display an *instance* of <code>RandomForestClassifier</code> where you do not pass in any arguments / settings. You should be able to see the default arguments for key hyperparameters.\n",
    "* By default, how many trees are included in the random forest classifier?\n",
    "* What is the default minimum leaf size?\n",
    "* What is the default maximum depth?"
   ]
  },
  {
   "cell_type": "code",
   "execution_count": null,
   "metadata": {},
   "outputs": [],
   "source": []
  },
  {
   "cell_type": "markdown",
   "metadata": {},
   "source": [
    "<strong style=\"color:RoyalBlue\">Expected output:</strong>\n",
    "<pre>\n",
    "RandomForestClassifier(bootstrap=True, class_weight=None, criterion='gini',\n",
    "            max_depth=None, max_features='auto', max_leaf_nodes=None,\n",
    "            min_impurity_decrease=0.0, min_impurity_split=None,\n",
    "            min_samples_leaf=1, min_samples_split=2,\n",
    "            min_weight_fraction_leaf=0.0, n_estimators=10, n_jobs=1,\n",
    "            oob_score=False, random_state=None, verbose=0,\n",
    "            warm_start=False)\n",
    "</pre>"
   ]
  },
  {
   "cell_type": "markdown",
   "metadata": {},
   "source": [
    "#### C.) Fit and plot a random forest with its default hyperparameter values and the random state 123.\n",
    "* Is this model overfit or underfit?"
   ]
  },
  {
   "cell_type": "code",
   "execution_count": null,
   "metadata": {},
   "outputs": [],
   "source": []
  },
  {
   "cell_type": "markdown",
   "metadata": {},
   "source": [
    "<strong style=\"color:RoyalBlue\">Expected output:</strong>\n",
    "<img src=\"data:image/png;base64,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&#10;\">"
   ]
  },
  {
   "cell_type": "markdown",
   "metadata": {},
   "source": [
    "For this simulated dataset, it's plain to see that the default random forest **suffers from overfitting**. That's not surprising because the dataset is incredibly simple, and decision trees may be too complex.\n",
    "\n",
    "However, it's worth trying to tune the hyperparameters and overall model complexity to see if we can arrive at a better random forest.\n",
    "\n",
    "#### D.) Let's try tuning the number of estimators included in the ensemble. Fit and plot random forests with 20, 50, 100, and 200 trees.\n",
    "* For this dataset, does increasing the number of trees in the random forest help the model?"
   ]
  },
  {
   "cell_type": "code",
   "execution_count": null,
   "metadata": {},
   "outputs": [],
   "source": []
  },
  {
   "cell_type": "markdown",
   "metadata": {},
   "source": [
    "#### E.) Next, fit and plot random forests that set a higher minimum leaf size. Try minimum leaf sizes of 2, 5, 10, and 20.\n",
    "* Does increasing the minimum leaf size improve the model?\n",
    "* What can you conclude?"
   ]
  },
  {
   "cell_type": "code",
   "execution_count": null,
   "metadata": {},
   "outputs": [],
   "source": []
  },
  {
   "cell_type": "markdown",
   "metadata": {},
   "source": [
    "## <span style=\"color:RoyalBlue\">Exercise 3.3 - Gradient Boosted Classifiers</span>\n",
    "\n",
    "Next, let's repeat the same exercise for gradient boosted trees and see if tuning the hyperparameters the same way has the same effects."
   ]
  },
  {
   "cell_type": "markdown",
   "metadata": {},
   "source": [
    "Just to recap, boosted trees train a sequence of \"weak\", **constrained** decision trees and combine their predictions through boosting. \n",
    "* Each decision tree is allowed a **maximum depth**, which should be tuned.\n",
    "* Each decision tree in the sequence tries to correct the prediction errors of the one before it.\n",
    "\n",
    "#### A.) First, import the <code style=\"color:steelblue\">GradientBoostingClassifier</code> algorithm from <code style=\"color:steelblue\">sklearn.ensemble</code>."
   ]
  },
  {
   "cell_type": "code",
   "execution_count": null,
   "metadata": {},
   "outputs": [],
   "source": []
  },
  {
   "cell_type": "markdown",
   "metadata": {},
   "source": [
    "#### B.) Next, display an *instance* of <code>GradientBoostingClassifier</code> where you do not pass in any arguments / settings. You should be able to see the default arguments for key hyperparameters.\n",
    "* By default, how many trees are included in the gradient boosted classifier?\n",
    "* What is the default minimum leaf size?\n",
    "* What is the default maximum depth?"
   ]
  },
  {
   "cell_type": "code",
   "execution_count": null,
   "metadata": {},
   "outputs": [],
   "source": []
  },
  {
   "cell_type": "markdown",
   "metadata": {},
   "source": [
    "<strong style=\"color:RoyalBlue\">Expected output:</strong>\n",
    "<pre>\n",
    "GradientBoostingClassifier(criterion='friedman_mse', init=None,\n",
    "              learning_rate=0.1, loss='deviance', max_depth=3,\n",
    "              max_features=None, max_leaf_nodes=None,\n",
    "              min_impurity_decrease=0.0, min_impurity_split=None,\n",
    "              min_samples_leaf=1, min_samples_split=2,\n",
    "              min_weight_fraction_leaf=0.0, n_estimators=100,\n",
    "              presort='auto', random_state=None, subsample=1.0, verbose=0,\n",
    "              warm_start=False)\n",
    "</pre>"
   ]
  },
  {
   "cell_type": "markdown",
   "metadata": {},
   "source": [
    "#### C.) Fit and plot a gradient boosted tree with its default hyperparameter values and the random state 123.\n",
    "* Is this model overfit or underfit?"
   ]
  },
  {
   "cell_type": "code",
   "execution_count": null,
   "metadata": {},
   "outputs": [],
   "source": []
  },
  {
   "cell_type": "markdown",
   "metadata": {},
   "source": [
    "<strong style=\"color:RoyalBlue\">Expected output:</strong>\n",
    "\n",
    "<img src=\"data:image/png;base64,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&#10;\">"
   ]
  },
  {
   "cell_type": "markdown",
   "metadata": {},
   "source": [
    "#### D.) Let's try tuning the number of estimators included in the ensemble. Fit and plot boosted classifiers with 10, 20, 50, and 200 trees.\n",
    "* For this dataset, does decreasing or increasing the number of trees in the classifier help the model?"
   ]
  },
  {
   "cell_type": "code",
   "execution_count": null,
   "metadata": {},
   "outputs": [],
   "source": []
  },
  {
   "cell_type": "markdown",
   "metadata": {},
   "source": [
    "#### E.) Next, fit and plot boosted trees with different max depth values. Try max depth values of 1, 2, 5, and 10.\n",
    "* Does changing the max depth improve the model?\n",
    "* What can you conclude?"
   ]
  },
  {
   "cell_type": "code",
   "execution_count": null,
   "metadata": {},
   "outputs": [],
   "source": []
  },
  {
   "cell_type": "markdown",
   "metadata": {
    "collapsed": true
   },
   "source": [
    "Alright, that was a nice tour through some additional key theory and concepts, but let's get ready to dive back into the project! As a reminder, here are a few things you did in this module:\n",
    "* You learned some key terminology for binary classification, such as \"positive\" vs. \"negative\" classes.\n",
    "* You saw how logistic regression can also be regularized.\n",
    "* You played around with different settings for penalty strength.\n",
    "* And you recruited 4 algorithms: $L_1$-Regularized Logistic, $L_2$-Regularized Logistic, Random Forests, and Boosted Trees.\n",
    "\n",
    "Now that we've recruited our 4 candidate algorithms, it's time to see which one performs the best! In the next module, we'll plug these algorithms into the powerful modeling process you learned in the previous project."
   ]
  }
 ],
 "metadata": {
  "anaconda-cloud": {},
  "kernelspec": {
   "display_name": "Python 3 (ipykernel)",
   "language": "python",
   "name": "python3"
  },
  "language_info": {
   "codemirror_mode": {
    "name": "ipython",
    "version": 3
   },
   "file_extension": ".py",
   "mimetype": "text/x-python",
   "name": "python",
   "nbconvert_exporter": "python",
   "pygments_lexer": "ipython3",
   "version": "3.9.7"
  }
 },
 "nbformat": 4,
 "nbformat_minor": 1
}
